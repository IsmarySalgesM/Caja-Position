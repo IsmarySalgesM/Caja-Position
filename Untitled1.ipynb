{
  "nbformat": 4,
  "nbformat_minor": 0,
  "metadata": {
    "colab": {
      "provenance": [],
      "authorship_tag": "ABX9TyOhbnqX8+ExZ0cocnJn5YpC",
      "include_colab_link": true
    },
    "kernelspec": {
      "name": "python3",
      "display_name": "Python 3"
    },
    "language_info": {
      "name": "python"
    }
  },
  "cells": [
    {
      "cell_type": "markdown",
      "metadata": {
        "id": "view-in-github",
        "colab_type": "text"
      },
      "source": [
        "<a href=\"https://colab.research.google.com/github/IsmarySalgesM/Caja-Position/blob/master/Untitled1.ipynb\" target=\"_parent\"><img src=\"https://colab.research.google.com/assets/colab-badge.svg\" alt=\"Open In Colab\"/></a>"
      ]
    },
    {
      "cell_type": "code",
      "execution_count": null,
      "metadata": {
        "id": "r3BkeBue66iL"
      },
      "outputs": [],
      "source": []
    },
    {
      "cell_type": "markdown",
      "source": [
        "## ¿Quiénes Somos?\n",
        "\n",
        "Somos una iniciativa de Samsung a nivel global enfocada en empoderar a toda una generación con habilidades 4.0 en un contexto impulsado por la tecnología.\n",
        "\n",
        "---\n",
        "\n",
        "### **+500**\n",
        "**Jóvenes chilenos certificados desde 2020** en competencias de codificación, programación, big data, IoT e inteligencia artificial.\n",
        "\n",
        "---\n",
        "\n",
        "**Samsung Innovation Campus Chile** es un programa intensivo de Samsung que entrega competencias en IA, Big Data y programación. Junto a la **ONG Innovacien** hemos certificado a cientos de jóvenes desde 2020."
      ],
      "metadata": {
        "id": "2XJA_NSB7C3I"
      }
    }
  ]
}